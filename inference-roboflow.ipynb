{
 "cells": [
  {
   "cell_type": "code",
   "execution_count": null,
   "metadata": {},
   "outputs": [],
   "source": [
    "!pip install inference==0.16.2"
   ]
  },
  {
   "cell_type": "markdown",
   "metadata": {},
   "source": [
    "### Sanity testing with a sample image inference"
   ]
  },
  {
   "cell_type": "code",
   "execution_count": 1,
   "metadata": {},
   "outputs": [
    {
     "name": "stderr",
     "output_type": "stream",
     "text": [
      "SupervisionWarnings: BoundingBoxAnnotator is deprecated: `BoundingBoxAnnotator` is deprecated and has been renamed to `BoxAnnotator`. `BoundingBoxAnnotator` will be removed in supervision-0.26.0.\n",
      "UserWarning: Specified provider 'CUDAExecutionProvider' is not in available provider names.Available providers: 'CPUExecutionProvider'\n",
      "UserWarning: Specified provider 'OpenVINOExecutionProvider' is not in available provider names.Available providers: 'CPUExecutionProvider'\n"
     ]
    },
    {
     "name": "stdout",
     "output_type": "stream",
     "text": [
      "[ObjectDetectionInferenceResponse(visualization=None, inference_id=None, frame_id=None, time=None, image=InferenceResponseImage(width=1024, height=1024), predictions=[ObjectDetectionPrediction(x=653.0, y=301.5, width=448.0, height=337.0, confidence=0.7887011170387268, class_name='umbrella', class_confidence=None, class_id=25, tracker_id=None, detection_id='ddb00403-590e-476f-a4db-aab189deef6e', parent_id=None), ObjectDetectionPrediction(x=494.0, y=443.0, width=140.0, height=86.0, confidence=0.783894419670105, class_name='chair', class_confidence=None, class_id=56, tracker_id=None, detection_id='cea8c74d-f43f-48d8-9bc1-eac49f3fee3d', parent_id=None), ObjectDetectionPrediction(x=589.0, y=447.0, width=126.0, height=94.0, confidence=0.7000027298927307, class_name='chair', class_confidence=None, class_id=56, tracker_id=None, detection_id='5b1704ed-2bf8-499a-8f4c-75b6c7526e64', parent_id=None), ObjectDetectionPrediction(x=836.0, y=457.0, width=114.0, height=84.0, confidence=0.5971807837486267, class_name='chair', class_confidence=None, class_id=56, tracker_id=None, detection_id='42dcaf98-09c9-46cd-a28d-0d20cb16534e', parent_id=None), ObjectDetectionPrediction(x=87.0, y=435.5, width=174.0, height=99.0, confidence=0.4767813980579376, class_name='chair', class_confidence=None, class_id=56, tracker_id=None, detection_id='1f559902-9747-4e3d-b73e-f31f31cbeebe', parent_id=None), ObjectDetectionPrediction(x=481.0, y=746.0, width=888.0, height=554.0, confidence=0.4555164873600006, class_name='bench', class_confidence=None, class_id=13, tracker_id=None, detection_id='a4cd0ff9-3a85-461c-b951-abf6642b1b8e', parent_id=None)])]\n"
     ]
    }
   ],
   "source": [
    "from inference import get_model\n",
    "\n",
    "model = get_model(model_id=\"yolov8n-640\")\n",
    "results = model.infer(\"https://storage.googleapis.com/bucket-trial-run/ComfyUI_00003_.png\")\n",
    "print(results)"
   ]
  },
  {
   "cell_type": "markdown",
   "metadata": {},
   "source": [
    "### Run local hosting inference with local video file"
   ]
  },
  {
   "cell_type": "code",
   "execution_count": null,
   "metadata": {},
   "outputs": [],
   "source": [
    "import json\n",
    "API_KEYS = json.load(open('api_keys.json'))\n",
    "\n",
    "from inference import InferencePipeline\n",
    "from inference.core.interfaces.stream.sinks import render_boxes\n",
    "\n",
    "pipeline = InferencePipeline.init(\n",
    "    api_key=API_KEYS['roboflow_key'],\n",
    "    model_id=\"resort-pool/3\",\n",
    "    video_reference=\"./test-data/test-video-2.mp4\",\n",
    "    on_prediction=render_boxes\n",
    ")\n",
    "\n",
    "pipeline.start() #start the pipeline\n",
    "pipeline.join() #wait for the pipeline thread to finish"
   ]
  },
  {
   "cell_type": "markdown",
   "metadata": {},
   "source": [
    "### Run cloud inference with specified workflow"
   ]
  },
  {
   "cell_type": "code",
   "execution_count": null,
   "metadata": {},
   "outputs": [],
   "source": [
    "import json\n",
    "API_KEYS = json.load(open('api_keys.json'))\n",
    "\n",
    "from inference import InferencePipeline\n",
    "from inference.core.interfaces.stream.sinks import render_boxes\n",
    "\n",
    "pipeline = InferencePipeline.init_with_workflow(\n",
    "    api_key=API_KEYS['roboflow_key'],\n",
    "    workspace_name=\"adamsstudio\",\n",
    "    workflow_id=\"resort-pool-chain-models\",\n",
    "    video_reference=\"https://storage.googleapis.com/bucket-trial-run/test-video.mp4\",\n",
    "    max_fps=5,\n",
    "    on_prediction=render_boxes\n",
    ")\n",
    "\n",
    "pipeline.start() #start the pipeline\n",
    "pipeline.join() #wait for the pipeline thread to finish"
   ]
  }
 ],
 "metadata": {
  "kernelspec": {
   "display_name": "Python 3",
   "language": "python",
   "name": "python3"
  },
  "language_info": {
   "codemirror_mode": {
    "name": "ipython",
    "version": 3
   },
   "file_extension": ".py",
   "mimetype": "text/x-python",
   "name": "python",
   "nbconvert_exporter": "python",
   "pygments_lexer": "ipython3",
   "version": "3.9.19"
  }
 },
 "nbformat": 4,
 "nbformat_minor": 2
}

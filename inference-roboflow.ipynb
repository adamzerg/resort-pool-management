{
 "cells": [
  {
   "cell_type": "code",
   "execution_count": null,
   "metadata": {},
   "outputs": [],
   "source": [
    "!pip install inference==0.16.2"
   ]
  },
  {
   "cell_type": "code",
   "execution_count": null,
   "metadata": {},
   "outputs": [],
   "source": [
    "import json\n",
    "API_KEYS = json.load(open('api_keys.json'))\n",
    "\n",
    "from inference import InferencePipeline\n",
    "from inference.core.interfaces.stream.sinks import render_boxes\n",
    "\n",
    "pipeline = InferencePipeline.init(\n",
    "    api_key=API_KEYS['roboflow_key'],\n",
    "    model_id=\"resort-pool/3\",\n",
    "    video_reference=\"test-video.mp4\",\n",
    "    on_prediction=render_boxes\n",
    ")\n",
    "\n",
    "pipeline.start() #start the pipeline\n",
    "pipeline.join() #wait for the pipeline thread to finish"
   ]
  },
  {
   "cell_type": "code",
   "execution_count": null,
   "metadata": {},
   "outputs": [],
   "source": [
    "import json\n",
    "API_KEYS = json.load(open('api_keys.json'))\n",
    "\n",
    "from inference import InferencePipeline\n",
    "from inference.core.interfaces.stream.sinks import render_boxes\n",
    "\n",
    "pipeline = InferencePipeline.init_with_workflow(\n",
    "    api_key=API_KEYS['roboflow_key'],\n",
    "    workspace_name=\"adamsstudio\",\n",
    "    workflow_id=\"resort-pool-chain-models\",\n",
    "    video_reference=\"https://storage.googleapis.com/bucket-trial-run/test-video.mp4\",\n",
    "    max_fps=5,\n",
    "    on_prediction=render_boxes\n",
    ")\n",
    "\n",
    "pipeline.start() #start the pipeline\n",
    "pipeline.join() #wait for the pipeline thread to finish"
   ]
  },
  {
   "cell_type": "code",
   "execution_count": null,
   "metadata": {},
   "outputs": [],
   "source": [
    "from inference import get_model\n",
    "\n",
    "model = get_model(model_id=\"yolov8n-640\")\n",
    "results = model.infer(\"https://storage.googleapis.com/bucket-trial-run/ComfyUI_00003_.png\")\n",
    "print(results)"
   ]
  }
 ],
 "metadata": {
  "kernelspec": {
   "display_name": "Python 3",
   "language": "python",
   "name": "python3"
  },
  "language_info": {
   "codemirror_mode": {
    "name": "ipython",
    "version": 3
   },
   "file_extension": ".py",
   "mimetype": "text/x-python",
   "name": "python",
   "nbconvert_exporter": "python",
   "pygments_lexer": "ipython3",
   "version": "3.9.19"
  }
 },
 "nbformat": 4,
 "nbformat_minor": 2
}
